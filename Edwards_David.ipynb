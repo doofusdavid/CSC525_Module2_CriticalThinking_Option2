{
 "cells": [
  {
   "cell_type": "code",
   "execution_count": 7,
   "metadata": {
    "collapsed": true,
    "pycharm": {
     "name": "#%%\n"
    }
   },
   "outputs": [],
   "source": [
    "import pandas as pd\n",
    "import matplotlib.pyplot as plt\n",
    "from sklearn.model_selection import train_test_split"
   ]
  },
  {
   "cell_type": "code",
   "execution_count": 3,
   "outputs": [
    {
     "data": {
      "text/plain": "    0   1    2  3           4\n0  15  66  237  0    Strategy\n1  21  60  238  0  Platformer\n2  14  78  176  1    Strategy\n3  10  67  216  1    Strategy\n4  19  69  185  1         RPG",
      "text/html": "<div>\n<style scoped>\n    .dataframe tbody tr th:only-of-type {\n        vertical-align: middle;\n    }\n\n    .dataframe tbody tr th {\n        vertical-align: top;\n    }\n\n    .dataframe thead th {\n        text-align: right;\n    }\n</style>\n<table border=\"1\" class=\"dataframe\">\n  <thead>\n    <tr style=\"text-align: right;\">\n      <th></th>\n      <th>0</th>\n      <th>1</th>\n      <th>2</th>\n      <th>3</th>\n      <th>4</th>\n    </tr>\n  </thead>\n  <tbody>\n    <tr>\n      <th>0</th>\n      <td>15</td>\n      <td>66</td>\n      <td>237</td>\n      <td>0</td>\n      <td>Strategy</td>\n    </tr>\n    <tr>\n      <th>1</th>\n      <td>21</td>\n      <td>60</td>\n      <td>238</td>\n      <td>0</td>\n      <td>Platformer</td>\n    </tr>\n    <tr>\n      <th>2</th>\n      <td>14</td>\n      <td>78</td>\n      <td>176</td>\n      <td>1</td>\n      <td>Strategy</td>\n    </tr>\n    <tr>\n      <th>3</th>\n      <td>10</td>\n      <td>67</td>\n      <td>216</td>\n      <td>1</td>\n      <td>Strategy</td>\n    </tr>\n    <tr>\n      <th>4</th>\n      <td>19</td>\n      <td>69</td>\n      <td>185</td>\n      <td>1</td>\n      <td>RPG</td>\n    </tr>\n  </tbody>\n</table>\n</div>"
     },
     "execution_count": 3,
     "metadata": {},
     "output_type": "execute_result"
    }
   ],
   "source": [
    "games = pd.read_csv(\"data.csv\", header=None)\n",
    "games.head()"
   ],
   "metadata": {
    "collapsed": false,
    "pycharm": {
     "name": "#%%\n"
    }
   }
  },
  {
   "cell_type": "code",
   "execution_count": 4,
   "outputs": [
    {
     "data": {
      "text/plain": "   Age  Height  Weight  Gender       Genre\n0   15      66     237       0    Strategy\n1   21      60     238       0  Platformer\n2   14      78     176       1    Strategy\n3   10      67     216       1    Strategy\n4   19      69     185       1         RPG",
      "text/html": "<div>\n<style scoped>\n    .dataframe tbody tr th:only-of-type {\n        vertical-align: middle;\n    }\n\n    .dataframe tbody tr th {\n        vertical-align: top;\n    }\n\n    .dataframe thead th {\n        text-align: right;\n    }\n</style>\n<table border=\"1\" class=\"dataframe\">\n  <thead>\n    <tr style=\"text-align: right;\">\n      <th></th>\n      <th>Age</th>\n      <th>Height</th>\n      <th>Weight</th>\n      <th>Gender</th>\n      <th>Genre</th>\n    </tr>\n  </thead>\n  <tbody>\n    <tr>\n      <th>0</th>\n      <td>15</td>\n      <td>66</td>\n      <td>237</td>\n      <td>0</td>\n      <td>Strategy</td>\n    </tr>\n    <tr>\n      <th>1</th>\n      <td>21</td>\n      <td>60</td>\n      <td>238</td>\n      <td>0</td>\n      <td>Platformer</td>\n    </tr>\n    <tr>\n      <th>2</th>\n      <td>14</td>\n      <td>78</td>\n      <td>176</td>\n      <td>1</td>\n      <td>Strategy</td>\n    </tr>\n    <tr>\n      <th>3</th>\n      <td>10</td>\n      <td>67</td>\n      <td>216</td>\n      <td>1</td>\n      <td>Strategy</td>\n    </tr>\n    <tr>\n      <th>4</th>\n      <td>19</td>\n      <td>69</td>\n      <td>185</td>\n      <td>1</td>\n      <td>RPG</td>\n    </tr>\n  </tbody>\n</table>\n</div>"
     },
     "execution_count": 4,
     "metadata": {},
     "output_type": "execute_result"
    }
   ],
   "source": [
    "games.columns = [\"Age\", \"Height\", \"Weight\", \"Gender\", \"Genre\"]\n",
    "games.head()"
   ],
   "metadata": {
    "collapsed": false,
    "pycharm": {
     "name": "#%%\n"
    }
   }
  },
  {
   "cell_type": "code",
   "execution_count": 8,
   "outputs": [
    {
     "data": {
      "text/plain": "<Figure size 432x288 with 1 Axes>",
      "image/png": "[encoded data removed]"
     },
     "metadata": {
      "needs_background": "light"
     },
     "output_type": "display_data"
    }
   ],
   "source": [
    "games[\"Genre\"].hist()\n",
    "plt.show()"
   ],
   "metadata": {
    "collapsed": false,
    "pycharm": {
     "name": "#%%\n"
    }
   }
  },
  {
   "cell_type": "code",
   "execution_count": null,
   "outputs": [],
   "source": [],
   "metadata": {
    "collapsed": false,
    "pycharm": {
     "name": "#%%\n"
    }
   }
  }
 ],
 "metadata": {
  "kernelspec": {
   "display_name": "Python 3",
   "language": "python",
   "name": "python3"
  },
  "language_info": {
   "codemirror_mode": {
    "name": "ipython",
    "version": 2
   },
   "file_extension": ".py",
   "mimetype": "text/x-python",
   "name": "python",
   "nbconvert_exporter": "python",
   "pygments_lexer": "ipython2",
   "version": "2.7.6"
  }
 },
 "nbformat": 4,
 "nbformat_minor": 0
}